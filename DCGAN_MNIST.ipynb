{
 "cells": [
  {
   "cell_type": "markdown",
   "id": "fb1da75b",
   "metadata": {},
   "source": [
    "## DCGAN のデモンストレーション\n",
    "### MNISTのデータセットを利用し、GANから手書き数字画像を生成させるコードです。"
   ]
  },
  {
   "cell_type": "code",
   "execution_count": 1,
   "id": "9a7d457c",
   "metadata": {},
   "outputs": [],
   "source": [
    "#必要なライブラリのインポート\n",
    "\n",
    "from __future__ import absolute_import, division, print_function, unicode_literals\n",
    "import tensorflow as tf\n",
    "import glob\n",
    "import imageio\n",
    "import matplotlib.pyplot as plt\n",
    "import numpy as np\n",
    "import os\n",
    "import PIL\n",
    "from tensorflow.keras import layers\n",
    "import time\n",
    "from IPython import display"
   ]
  },
  {
   "cell_type": "code",
   "execution_count": 3,
   "id": "b0aec4de",
   "metadata": {},
   "outputs": [],
   "source": [
    "# MNISTデータセットのロード\n",
    "\n",
    "(train_images, train_labels), (_, _) = tf.keras.datasets.mnist.load_data()\n",
    "\n",
    "#前処理(32bitフロートへの変換、ノーマライズ(-1, 1))\n",
    "\n",
    "train_images = train_images.reshape(train_images.shape[0], 28, 28, 1).astype('float32')\n",
    "train_images = (train_images - 127.5) / 127.5"
   ]
  },
  {
   "cell_type": "code",
   "execution_count": 4,
   "id": "7dd137b0",
   "metadata": {},
   "outputs": [],
   "source": [
    "#バッチサイズの定義、データセットへの反映\n",
    "\n",
    "BUFFER_SIZE = 60000\n",
    "BATCH_SIZE = 256\n",
    "train_dataset = tf.data.Dataset.from_tensor_slices(train_images).shuffle(BUFFER_SIZE).batch(BATCH_SIZE)"
   ]
  },
  {
   "cell_type": "code",
   "execution_count": 5,
   "id": "9c56b210",
   "metadata": {},
   "outputs": [],
   "source": [
    "# Generatorの定義　資料P7\n",
    "\n",
    "def make_generator_model():\n",
    "    model = tf.keras.Sequential()\n",
    "    model.add(layers.Dense(7*7*256, use_bias=False, input_shape=(100,)))\n",
    "    model.add(layers.BatchNormalization())\n",
    "    model.add(layers.LeakyReLU())\n",
    " \n",
    "    model.add(layers.Reshape((7, 7, 256)))\n",
    "    assert model.output_shape == (None, 7, 7, 256) # Note: None is the batch size\n",
    " \n",
    "    model.add(layers.Conv2DTranspose(128, (5, 5), strides=(1, 1), padding='same', use_bias=False))\n",
    "    assert model.output_shape == (None, 7, 7, 128)\n",
    "    model.add(layers.BatchNormalization())\n",
    "    model.add(layers.LeakyReLU())\n",
    " \n",
    "    model.add(layers.Conv2DTranspose(64, (5, 5), strides=(2, 2), padding='same', use_bias=False))\n",
    "    assert model.output_shape == (None, 14, 14, 64)\n",
    "    model.add(layers.BatchNormalization())\n",
    "    model.add(layers.LeakyReLU())\n",
    " \n",
    "    model.add(layers.Conv2DTranspose(1, (5, 5), strides=(2, 2), padding='same', use_bias=False, activation='tanh'))\n",
    "    assert model.output_shape == (None, 28, 28, 1)\n",
    " \n",
    "    return model\n",
    "\n",
    "generator = make_generator_model()"
   ]
  },
  {
   "cell_type": "code",
   "execution_count": 6,
   "id": "63e43a4d",
   "metadata": {},
   "outputs": [
    {
     "data": {
      "text/plain": [
       "<tf.Tensor: shape=(1, 100), dtype=float32, numpy=\n",
       "array([[ 1.2406522e+00, -6.2604785e-02,  1.5239455e-01, -9.0884231e-03,\n",
       "        -4.3446422e-01, -1.6734284e+00, -4.6960083e-01,  7.4083650e-01,\n",
       "         1.0226780e+00, -1.0005450e-01, -2.4079332e-01,  2.3828992e-01,\n",
       "         4.2139116e-01, -2.7446908e-01, -1.1680804e+00,  2.2457728e+00,\n",
       "        -1.1205016e-01, -1.6034429e+00, -8.1509507e-01, -2.5465801e+00,\n",
       "         2.0275582e-01, -8.7227398e-01,  1.0305885e+00, -8.5864437e-01,\n",
       "        -9.2407662e-01,  2.0742543e+00, -5.4566151e-01, -5.3255439e-01,\n",
       "        -1.1569116e+00,  1.6066159e-01, -3.5737866e-01,  6.2918806e-01,\n",
       "        -7.4181670e-01,  1.3139030e-01, -2.0975038e-01, -1.4846683e-01,\n",
       "        -6.4837402e-01, -3.8866380e-01,  5.8253717e-01,  2.4112940e+00,\n",
       "         8.8555568e-01,  2.8448817e-03, -1.3669996e-01,  1.9269347e+00,\n",
       "        -1.1622969e+00, -4.7433817e-01,  6.4670309e-02,  3.0272239e-01,\n",
       "        -4.4750851e-01, -7.0622748e-01, -4.6050289e-01,  1.5913845e+00,\n",
       "        -4.8221003e-02,  6.0320798e-02,  8.9180484e-02, -6.1928970e-01,\n",
       "         8.6256918e-03, -6.1372471e-01, -1.1417878e+00, -3.7424442e-01,\n",
       "         6.9242960e-01, -1.4297472e+00,  6.7033750e-01,  1.4803816e-01,\n",
       "        -2.5080910e-01,  3.9201671e-01, -6.8764156e-01,  1.5370288e+00,\n",
       "         2.0241246e+00,  6.4898556e-01,  7.4188076e-02, -1.8469292e-01,\n",
       "         9.3894035e-01,  2.0483365e+00,  9.0699118e-01, -8.9946526e-01,\n",
       "        -3.0715829e-01,  6.8751973e-01, -2.0387919e-01, -2.0401927e-02,\n",
       "        -1.2686903e+00,  1.4221694e-01,  1.4942167e+00, -5.7680988e-01,\n",
       "         4.6156719e-01, -3.9882347e-01, -1.3064039e+00,  1.9976200e+00,\n",
       "        -1.3478038e+00, -1.3474565e+00,  2.3327063e-01, -2.2899032e+00,\n",
       "        -1.4701420e+00, -8.8418794e-01,  5.8635867e-01, -9.7236253e-02,\n",
       "        -3.0414367e-01,  3.1361971e+00, -1.7103196e+00, -3.0786614e-03]],\n",
       "      dtype=float32)>"
      ]
     },
     "execution_count": 6,
     "metadata": {},
     "output_type": "execute_result"
    }
   ],
   "source": [
    "# ランダムベクトルの生成\n",
    "\n",
    "noise = tf.random.normal([1, 100])\n",
    "\n",
    "noise"
   ]
  },
  {
   "cell_type": "code",
   "execution_count": 7,
   "id": "fb7beed8",
   "metadata": {},
   "outputs": [
    {
     "data": {
      "text/plain": [
       "<matplotlib.image.AxesImage at 0x7f46e79954a8>"
      ]
     },
     "execution_count": 7,
     "metadata": {},
     "output_type": "execute_result"
    },
    {
     "data": {
      "image/png": "[encoded data removed]",
      "text/plain": [
       "<Figure size 432x288 with 1 Axes>"
      ]
     },
     "metadata": {
      "needs_background": "light"
     },
     "output_type": "display_data"
    }
   ],
   "source": [
    "# 学習前のGeneratorでランダムベクトルから画像生成\n",
    "\n",
    "generated_image = generator(noise, training=False)\n",
    "plt.imshow(generated_image[0, :, :, 0], cmap='gray')"
   ]
  },
  {
   "cell_type": "code",
   "execution_count": 8,
   "id": "58a12b99",
   "metadata": {},
   "outputs": [],
   "source": [
    "# discriminatorの定義\n",
    "\n",
    "def make_discriminator_model():\n",
    "    model = tf.keras.Sequential()\n",
    "    model.add(layers.Conv2D(64, (5, 5), strides=(2, 2), padding='same',\n",
    "                                     input_shape=[28, 28, 1]))\n",
    "    model.add(layers.LeakyReLU())\n",
    "    model.add(layers.Dropout(0.3))\n",
    " \n",
    "    model.add(layers.Conv2D(128, (5, 5), strides=(2, 2), padding='same'))\n",
    "    model.add(layers.LeakyReLU())\n",
    "    model.add(layers.Dropout(0.3))\n",
    " \n",
    "    model.add(layers.Flatten())\n",
    "    model.add(layers.Dense(1))\n",
    " \n",
    "    return model\n",
    "\n",
    "\n",
    "discriminator = make_discriminator_model()"
   ]
  },
  {
   "cell_type": "code",
   "execution_count": 9,
   "id": "95bb0913",
   "metadata": {},
   "outputs": [],
   "source": [
    "#損失関数の定義\n",
    "\n",
    "cross_entropy = tf.keras.losses.BinaryCrossentropy(from_logits=True)"
   ]
  },
  {
   "cell_type": "code",
   "execution_count": 10,
   "id": "0bf65f0a",
   "metadata": {},
   "outputs": [],
   "source": [
    "# Discriminatorの損失の定義\n",
    "\n",
    "def discriminator_loss(real_output, fake_output):\n",
    "    real_loss = cross_entropy(tf.ones_like(real_output), real_output)\n",
    "    fake_loss = cross_entropy(tf.zeros_like(fake_output), fake_output)\n",
    "    total_loss = real_loss + fake_loss\n",
    "    return total_loss\n",
    "\n",
    "# Generatorの損失の定義\n",
    "\n",
    "def generator_loss(fake_output):\n",
    "    return cross_entropy(tf.ones_like(fake_output), fake_output)"
   ]
  },
  {
   "cell_type": "code",
   "execution_count": 11,
   "id": "1d2a3672",
   "metadata": {},
   "outputs": [],
   "source": [
    "# 最適化アルゴリズムの定義\n",
    "generator_optimizer = tf.keras.optimizers.Adam(1e-4)\n",
    "discriminator_optimizer = tf.keras.optimizers.Adam(1e-4)"
   ]
  },
  {
   "cell_type": "code",
   "execution_count": 12,
   "id": "ab4bd483",
   "metadata": {},
   "outputs": [],
   "source": [
    "# ランダムベクトルの生成\n",
    "\n",
    "noise_dim = 100\n",
    "num_examples_to_generate = 16\n",
    "\n",
    "seed = tf.random.normal([num_examples_to_generate, noise_dim])"
   ]
  },
  {
   "cell_type": "code",
   "execution_count": 13,
   "id": "76956253",
   "metadata": {},
   "outputs": [],
   "source": [
    "# 学習サイクルの定義\n",
    "\n",
    "@tf.function\n",
    "def train_step(images):\n",
    "    noise = tf.random.normal([BATCH_SIZE, noise_dim])\n",
    " \n",
    "    with tf.GradientTape() as gen_tape, tf.GradientTape() as disc_tape:\n",
    "      generated_images = generator(noise, training=True)\n",
    " \n",
    "      real_output = discriminator(images, training=True)\n",
    "      fake_output = discriminator(generated_images, training=True)\n",
    " \n",
    "      gen_loss = generator_loss(fake_output)\n",
    "      disc_loss = discriminator_loss(real_output, fake_output)\n",
    " \n",
    "    gradients_of_generator = gen_tape.gradient(gen_loss, generator.trainable_variables)\n",
    "    gradients_of_discriminator = disc_tape.gradient(disc_loss, discriminator.trainable_variables)\n",
    " \n",
    "    generator_optimizer.apply_gradients(zip(gradients_of_generator, generator.trainable_variables))\n",
    "    discriminator_optimizer.apply_gradients(zip(gradients_of_discriminator, discriminator.trainable_variables))\n"
   ]
  },
  {
   "cell_type": "code",
   "execution_count": 14,
   "id": "c98eb5cf",
   "metadata": {},
   "outputs": [],
   "source": [
    "#チェックポイントと画像保存の定義\n",
    "\n",
    "checkpoint_dir = './training_checkpoints'\n",
    "checkpoint_prefix = os.path.join(checkpoint_dir, \"ckpt\")\n",
    "checkpoint = tf.train.Checkpoint(generator_optimizer=generator_optimizer,\n",
    "                                 discriminator_optimizer=discriminator_optimizer,\n",
    "                                 generator=generator,\n",
    "                                 discriminator=discriminator)\n",
    "\n",
    "def train(dataset, epochs):\n",
    "  for epoch in range(epochs):\n",
    "    start = time.time()\n",
    " \n",
    "    for image_batch in dataset:\n",
    "      train_step(image_batch)\n",
    " \n",
    "    # GIF画像として保存\n",
    "    display.clear_output(wait=True)\n",
    "    generate_and_save_images(generator,\n",
    "                             epoch + 1,\n",
    "                             seed)\n",
    " \n",
    "    # チェックポイントは15エポック毎に保存\n",
    "    if (epoch + 1) % 15 == 0:\n",
    "      checkpoint.save(file_prefix = checkpoint_prefix)\n",
    " \n",
    "    print ('Time for epoch {} is {} sec'.format(epoch + 1, time.time()-start))\n",
    " \n",
    "  # 最終エポック後に生成\n",
    "  display.clear_output(wait=True)\n",
    "  generate_and_save_images(generator,\n",
    "                           epochs,\n",
    "                           seed)\n",
    "\n",
    "def generate_and_save_images(model, epoch, test_input):\n",
    "  predictions = model(test_input, training=False)\n",
    " \n",
    "  fig = plt.figure(figsize=(4,4))\n",
    " \n",
    "  for i in range(predictions.shape[0]):\n",
    "      plt.subplot(4, 4, i+1)\n",
    "      plt.imshow(predictions[i, :, :, 0] * 127.5 + 127.5, cmap='gray')\n",
    "      plt.axis('off')\n",
    " \n",
    "  plt.savefig('image_at_epoch_{:04d}.png'.format(epoch))\n",
    "  plt.show()\n",
    "\n"
   ]
  },
  {
   "cell_type": "code",
   "execution_count": 15,
   "id": "587bcd9a",
   "metadata": {},
   "outputs": [
    {
     "data": {
      "image/png": "[encoded data removed]",
      "text/plain": [
       "<Figure size 288x288 with 16 Axes>"
      ]
     },
     "metadata": {
      "needs_background": "light"
     },
     "output_type": "display_data"
    }
   ],
   "source": [
    "# 学習の実行\n",
    "\n",
    "EPOCHS = 50\n",
    "train(train_dataset, EPOCHS)\n"
   ]
  }
 ],
 "metadata": {
  "kernelspec": {
   "display_name": "Python [conda env:mlgpuv1]",
   "language": "python",
   "name": "conda-env-mlgpuv1-py"
  },
  "language_info": {
   "codemirror_mode": {
    "name": "ipython",
    "version": 3
   },
   "file_extension": ".py",
   "mimetype": "text/x-python",
   "name": "python",
   "nbconvert_exporter": "python",
   "pygments_lexer": "ipython3",
   "version": "3.6.11"
  }
 },
 "nbformat": 4,
 "nbformat_minor": 5
}
